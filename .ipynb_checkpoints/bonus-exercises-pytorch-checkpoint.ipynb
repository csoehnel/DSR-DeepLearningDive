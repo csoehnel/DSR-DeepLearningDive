{
 "cells": [
  {
   "cell_type": "markdown",
   "metadata": {},
   "source": [
    "# 1  Train FashionMnist using Ignite\n",
    "\n",
    "Take the fashionmnist example notebook (notebook 5) and adapt it so you can train it with pytorch ignite:   \n",
    "https://github.com/pytorch/ignite\n",
    "\n",
    "\n",
    "Make sure to make use of its logging and callback capabilities.\n"
   ]
  },
  {
   "cell_type": "markdown",
   "metadata": {},
   "source": [
    "# 2 Make predictions using a pretrained model\n",
    "Create an simple script (or notebook) where you can pass any image and make predictions with one of the pretrainedmodels in:\n",
    "https://github.com/Cadene/pretrained-models.pytorch"
   ]
  },
  {
   "cell_type": "markdown",
   "metadata": {},
   "source": [
    "# 3 Train one of our examples Using the new fastai package\n",
    "https://github.com/fastai"
   ]
  },
  {
   "cell_type": "code",
   "execution_count": null,
   "metadata": {},
   "outputs": [],
   "source": []
  }
 ],
 "metadata": {
  "kernelspec": {
   "display_name": "Python [default]",
   "language": "python",
   "name": "python3"
  },
  "language_info": {
   "codemirror_mode": {
    "name": "ipython",
    "version": 3
   },
   "file_extension": ".py",
   "mimetype": "text/x-python",
   "name": "python",
   "nbconvert_exporter": "python",
   "pygments_lexer": "ipython3",
   "version": "3.6.4"
  }
 },
 "nbformat": 4,
 "nbformat_minor": 2
}
