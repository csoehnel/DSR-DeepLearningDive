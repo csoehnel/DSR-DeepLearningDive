{
 "cells": [
  {
   "cell_type": "code",
   "execution_count": 188,
   "metadata": {},
   "outputs": [],
   "source": [
    "from sklearn.datasets import make_blobs, make_moons\n",
    "import torch\n",
    "from torch import nn\n",
    "import pandas as pd\n",
    "import seaborn as sns\n",
    "import seaborn\n",
    "from torch.optim import SGD\n",
    "import torch.nn.functional as F\n",
    "import numpy as np\n",
    "\n",
    "RANDOM_STATE = 45\n",
    "\n",
    "np.random.seed(RANDOM_STATE)\n",
    "\n",
    "import matplotlib.pyplot as plt\n",
    "%matplotlib inline\n",
    "\n",
    "DEVICE = 'cuda' if torch.cuda.is_available() else 'cpu'\n",
    "\n",
    "\n",
    "def plot_decision_boundry(net, X, line='g--'):\n",
    "    W = net.fc.weight[0].detach().cpu().numpy()\n",
    "    b = net.fc.bias.detach().cpu().numpy()\n",
    "    f = lambda x: (-W[0]/W[1]) * x +  (-b/W[1])\n",
    "    dziedz = np.arange(-1, 1, 0.01)\n",
    "    plt.plot(dziedz, f(dziedz), line) \n",
    "    plt.xlim((-1, 1))\n",
    "    plt.ylim((-1, 1))"
   ]
  },
  {
   "cell_type": "markdown",
   "metadata": {},
   "source": [
    "# Prepare and Visualize data"
   ]
  },
  {
   "cell_type": "code",
   "execution_count": 189,
   "metadata": {},
   "outputs": [
    {
     "data": {
      "text/plain": [
       "<matplotlib.axes._subplots.AxesSubplot at 0x7f26b5677cf8>"
      ]
     },
     "execution_count": 189,
     "metadata": {},
     "output_type": "execute_result"
    },
    {
     "data": {
      "image/png": "[encoded data removed]",
      "text/plain": [
       "<Figure size 432x288 with 1 Axes>"
      ]
     },
     "metadata": {
      "needs_background": "light"
     },
     "output_type": "display_data"
    }
   ],
   "source": [
    "N_FEATURES = 2\n",
    "\n",
    "X, Y = make_blobs(centers=2, center_box=(-10, 10), random_state=RANDOM_STATE, n_features=N_FEATURES)\n",
    "# X, Y = make_moons()\n",
    "\n",
    "X = X/np.abs(X).max()\n",
    "# Y_one_hot = ohe.fit_transform(Y.reshape(-1, 1)).toarray()\n",
    "\n",
    "data = pd.DataFrame(X, columns=['x1', 'x2'])\n",
    "data['target'] = Y\n",
    "seaborn.scatterplot(x='x1',y='x2', hue='target', data=data)\n"
   ]
  },
  {
   "cell_type": "code",
   "execution_count": 190,
   "metadata": {},
   "outputs": [
    {
     "data": {
      "text/html": [
       "<div>\n",
       "<style scoped>\n",
       "    .dataframe tbody tr th:only-of-type {\n",
       "        vertical-align: middle;\n",
       "    }\n",
       "\n",
       "    .dataframe tbody tr th {\n",
       "        vertical-align: top;\n",
       "    }\n",
       "\n",
       "    .dataframe thead th {\n",
       "        text-align: right;\n",
       "    }\n",
       "</style>\n",
       "<table border=\"1\" class=\"dataframe\">\n",
       "  <thead>\n",
       "    <tr style=\"text-align: right;\">\n",
       "      <th></th>\n",
       "      <th>A</th>\n",
       "      <th>B</th>\n",
       "    </tr>\n",
       "  </thead>\n",
       "  <tbody>\n",
       "    <tr>\n",
       "      <th>0</th>\n",
       "      <td>0.707380</td>\n",
       "      <td>-0.133517</td>\n",
       "    </tr>\n",
       "    <tr>\n",
       "      <th>1</th>\n",
       "      <td>-0.316867</td>\n",
       "      <td>-0.817494</td>\n",
       "    </tr>\n",
       "    <tr>\n",
       "      <th>2</th>\n",
       "      <td>0.792607</td>\n",
       "      <td>0.064959</td>\n",
       "    </tr>\n",
       "    <tr>\n",
       "      <th>3</th>\n",
       "      <td>-0.323771</td>\n",
       "      <td>-0.660196</td>\n",
       "    </tr>\n",
       "    <tr>\n",
       "      <th>4</th>\n",
       "      <td>-0.405178</td>\n",
       "      <td>-0.645079</td>\n",
       "    </tr>\n",
       "  </tbody>\n",
       "</table>\n",
       "</div>"
      ],
      "text/plain": [
       "          A         B\n",
       "0  0.707380 -0.133517\n",
       "1 -0.316867 -0.817494\n",
       "2  0.792607  0.064959\n",
       "3 -0.323771 -0.660196\n",
       "4 -0.405178 -0.645079"
      ]
     },
     "execution_count": 190,
     "metadata": {},
     "output_type": "execute_result"
    }
   ],
   "source": [
    "pd.DataFrame(X, columns=['A','B']).head()"
   ]
  },
  {
   "cell_type": "code",
   "execution_count": 191,
   "metadata": {},
   "outputs": [
    {
     "data": {
      "text/html": [
       "<div>\n",
       "<style scoped>\n",
       "    .dataframe tbody tr th:only-of-type {\n",
       "        vertical-align: middle;\n",
       "    }\n",
       "\n",
       "    .dataframe tbody tr th {\n",
       "        vertical-align: top;\n",
       "    }\n",
       "\n",
       "    .dataframe thead th {\n",
       "        text-align: right;\n",
       "    }\n",
       "</style>\n",
       "<table border=\"1\" class=\"dataframe\">\n",
       "  <thead>\n",
       "    <tr style=\"text-align: right;\">\n",
       "      <th></th>\n",
       "      <th>0</th>\n",
       "    </tr>\n",
       "  </thead>\n",
       "  <tbody>\n",
       "    <tr>\n",
       "      <th>0</th>\n",
       "      <td>0</td>\n",
       "    </tr>\n",
       "    <tr>\n",
       "      <th>1</th>\n",
       "      <td>1</td>\n",
       "    </tr>\n",
       "    <tr>\n",
       "      <th>2</th>\n",
       "      <td>0</td>\n",
       "    </tr>\n",
       "    <tr>\n",
       "      <th>3</th>\n",
       "      <td>1</td>\n",
       "    </tr>\n",
       "    <tr>\n",
       "      <th>4</th>\n",
       "      <td>1</td>\n",
       "    </tr>\n",
       "  </tbody>\n",
       "</table>\n",
       "</div>"
      ],
      "text/plain": [
       "   0\n",
       "0  0\n",
       "1  1\n",
       "2  0\n",
       "3  1\n",
       "4  1"
      ]
     },
     "execution_count": 191,
     "metadata": {},
     "output_type": "execute_result"
    }
   ],
   "source": [
    "pd.DataFrame(Y).head()"
   ]
  },
  {
   "cell_type": "markdown",
   "metadata": {},
   "source": [
    "# Define the perceptron\n",
    "\n",
    "\n",
    "![alt text](https://i.stack.imgur.com/2MVdW.png \"Title\")\n"
   ]
  },
  {
   "cell_type": "code",
   "execution_count": 192,
   "metadata": {},
   "outputs": [
    {
     "name": "stdout",
     "output_type": "stream",
     "text": [
      "Parameter containing:\n",
      "tensor([[ 0.3936, -0.1094]], requires_grad=True)\n",
      "tensor([[-0.7592, -0.1397]])\n",
      "tensor([[0.1437]], grad_fn=<AddmmBackward>)\n"
     ]
    }
   ],
   "source": [
    "# input_tensor = torch.randn((1,2))\n",
    "\n",
    "# linear_layer = nn.Linear(2, 1)\n",
    "\n",
    "# linear_layer(input_tensor)\n",
    "\n",
    "print(linear_layer.weight)\n",
    "print(input_tensor)\n",
    "print(linear_layer(input_tensor))"
   ]
  },
  {
   "cell_type": "code",
   "execution_count": 193,
   "metadata": {},
   "outputs": [
    {
     "name": "stdout",
     "output_type": "stream",
     "text": [
      "fc weight Parameter containing:\n",
      "tensor([[-0.6035, -0.6929]], requires_grad=True)\n",
      "bias weight Parameter containing:\n",
      "tensor([-0.0791], requires_grad=True)\n"
     ]
    }
   ],
   "source": [
    "\n",
    "class Perceptron(nn.Module):\n",
    "    def __init__(self, n_in):\n",
    "\n",
    "        super(Perceptron, self).__init__()\n",
    "        self.fc = nn.Linear(2, 1, bias=True)\n",
    "\n",
    "    \n",
    "    def forward(self, x):\n",
    "        return self.fc(x)\n",
    "        #return nn.functional.relu(self.fc(x))\n",
    "\n",
    "def custom_weights(m):\n",
    "    if type(m) == nn.Linear:\n",
    "        torch.nn.init.xavier_uniform(m.weight)\n",
    "        m.bias.data.fill_(0.05)\n",
    "        \n",
    "perceptron = Perceptron(2)\n",
    "\n",
    "# Linear layers get their weights initialized by default, but you can reinitialize them if needed.\n",
    "# perceptron.apply(custom_weights)\n",
    "\n",
    "print(\"fc weight\", perceptron.fc.weight)\n",
    "print(\"bias weight\", perceptron.fc.bias)"
   ]
  },
  {
   "cell_type": "code",
   "execution_count": 194,
   "metadata": {},
   "outputs": [],
   "source": [
    "# dir(perceptron)"
   ]
  },
  {
   "cell_type": "markdown",
   "metadata": {},
   "source": [
    "# Train Loop Using CrossEntropy\n",
    "\n",
    "\n",
    "\n",
    "While using crossentropy loss our model needs to return (BS, n_classes) output tensor, the target has to be a coresponding dense label vector of shape (BS, 1)"
   ]
  },
  {
   "cell_type": "code",
   "execution_count": 210,
   "metadata": {
    "scrolled": false
   },
   "outputs": [
    {
     "name": "stdout",
     "output_type": "stream",
     "text": [
      "training epoch 0\n",
      "training epoch 1\n",
      "training epoch 2\n",
      "training epoch 3\n",
      "training epoch 4\n",
      "training epoch 5\n",
      "training epoch 6\n",
      "training epoch 7\n",
      "training epoch 8\n",
      "training epoch 9\n",
      "training epoch 10\n",
      "training epoch 11\n",
      "training epoch 12\n",
      "training epoch 13\n",
      "training epoch 14\n",
      "training epoch 15\n",
      "training epoch 16\n",
      "training epoch 17\n",
      "training epoch 18\n",
      "training epoch 19\n",
      "input shape (BS, n_classes): torch.Size([1, 2])\n",
      "target shape (BS, 1): torch.Size([1, 1])\n",
      "output shape torch.Size([1, 1])\n"
     ]
    },
    {
     "data": {
      "image/png": "[encoded data removed]",
      "text/plain": [
       "<Figure size 432x288 with 1 Axes>"
      ]
     },
     "metadata": {
      "needs_background": "light"
     },
     "output_type": "display_data"
    }
   ],
   "source": [
    "N_EPOCHS = 20\n",
    "\n",
    "# init the model, loss and optimizer\n",
    "net = Perceptron(2)\n",
    "optimizer = SGD(net.parameters(), lr=0.001)\n",
    "criterion = nn.BCEWithLogitsLoss()\n",
    "net = net.to(DEVICE)\n",
    "\n",
    "loss_history = []\n",
    "\n",
    "\n",
    "# neural_network.fit(X, y)\n",
    "for epoch in range(N_EPOCHS):\n",
    "    print(\"training epoch {}\".format(epoch))\n",
    "\n",
    "    for xsample,ysample in zip(X, Y):\n",
    "        optimizer.zero_grad() \n",
    "\n",
    "        # zero the gradients\n",
    "        \n",
    "        # batch preparation\n",
    "        \n",
    "        x = torch.Tensor(xsample).unsqueeze(0) # tensor([[0.8745, 0.5205]]) torch.Size([1, 2])\n",
    "        y = torch.Tensor([ysample]).unsqueeze(0) # tensor([[1.]]) torch.Size([1, 1])\n",
    "        \n",
    "        x = x.to(DEVICE)\n",
    "        y = y.to(DEVICE)\n",
    "        \n",
    "        \n",
    "        # forward pass\n",
    "        out = net(x)\n",
    "        \n",
    "        \n",
    "        # loss calculation\n",
    "        loss = criterion(out, y)\n",
    "\n",
    "\n",
    "        # calculating gradients\n",
    "        loss.backward()\n",
    "\n",
    "        \n",
    "        # changing the weights by specified(in the optimizer init) learning rate\n",
    "        optimizer.step()\n",
    "        \n",
    "        #append calculated loss to the history\n",
    "        loss_history.append(loss.detach().cpu().numpy())\n",
    "        \n",
    "    plot_decision_boundry(net, X)\n",
    "    \n",
    "# at the end plot final solution in red\n",
    "plot_decision_boundry(net, X, 'r-')\n",
    "seaborn.scatterplot(x='x1',y='x2', hue='target', data=data)\n",
    "\n",
    "        \n",
    "print(\"input shape (BS, n_classes):\", x.shape)\n",
    "print(\"target shape (BS, 1):\", y.shape)\n",
    "print(\"output shape\", out.shape)\n"
   ]
  },
  {
   "cell_type": "code",
   "execution_count": 212,
   "metadata": {
    "scrolled": true
   },
   "outputs": [
    {
     "data": {
      "text/plain": [
       "Text(0,0.5,'loss (CE)')"
      ]
     },
     "execution_count": 212,
     "metadata": {},
     "output_type": "execute_result"
    },
    {
     "data": {
      "image/png": "[encoded data removed]",
      "text/plain": [
       "<Figure size 432x288 with 1 Axes>"
      ]
     },
     "metadata": {
      "needs_background": "light"
     },
     "output_type": "display_data"
    }
   ],
   "source": [
    "history = pd.DataFrame(loss_history, columns=['loss'])\n",
    "history.loss.rolling(50).mean().plot()\n",
    "plt.title(\"loss\")\n",
    "plt.xlabel(\"batch number\")\n",
    "plt.ylabel(\"loss (CE)\")"
   ]
  },
  {
   "cell_type": "markdown",
   "metadata": {},
   "source": [
    "#### Exercises\n",
    "- Play with the training loop, enojoy the fact that you can inspect all the values dynamically. Consider using pdb.set_trace() for instance\n",
    "- Can you edit the Perceptron class to create a Multi Layer Perceptron? (ie having more then 0 hidden layers)\n",
    "- Initialize the the initial weights to 0. What do you think will happen? Can we still train the perceptron?\n",
    "- What kind of gradient descnet are we using here? Stochastic? Batch? or Vanilla?\n",
    "- What does detach do and why do we have to call it? (use google)\n",
    "- Try adding a RELU activation after Linear unit - Will it train of not why?\n",
    "- Try to implement a progress-bar (it might come in handy in our future exercises to)\n",
    " "
   ]
  },
  {
   "cell_type": "code",
   "execution_count": 27,
   "metadata": {},
   "outputs": [
    {
     "data": {
      "text/html": [
       "<iframe src=https://playground.tensorflow.org/#activation=tanh&batchSize=10&dataset=gauss&regDataset=reg-plane&learningRate=0.03&regularizationRate=0&noise=0&networkShape=&seed=0.19214&showTestData=false&discretize=false&percTrainData=50&x=true&y=true&xTimesY=false&xSquared=false&ySquared=false&cosX=false&sinX=false&cosY=false&sinY=false&collectStats=false&problem=classification&initZero=false&hideText=false width=1000 height=600></iframe>"
      ],
      "text/plain": [
       "<IPython.core.display.HTML object>"
      ]
     },
     "execution_count": 27,
     "metadata": {},
     "output_type": "execute_result"
    }
   ],
   "source": [
    "from IPython.display import HTML\n",
    "HTML('<iframe src=https://playground.tensorflow.org/#activation=tanh&batchSize=10&dataset=gauss&regDataset=reg-plane&learningRate=0.03&regularizationRate=0&noise=0&networkShape=&seed=0.19214&showTestData=false&discretize=false&percTrainData=50&x=true&y=true&xTimesY=false&xSquared=false&ySquared=false&cosX=false&sinX=false&cosY=false&sinY=false&collectStats=false&problem=classification&initZero=false&hideText=false width=1000 height=600></iframe>')"
   ]
  },
  {
   "cell_type": "code",
   "execution_count": 196,
   "metadata": {},
   "outputs": [
    {
     "data": {
      "text/plain": [
       "Perceptron(\n",
       "  (fc): Linear(in_features=2, out_features=1, bias=True)\n",
       ")"
      ]
     },
     "execution_count": 196,
     "metadata": {},
     "output_type": "execute_result"
    }
   ],
   "source": [
    "net"
   ]
  },
  {
   "cell_type": "code",
   "execution_count": 200,
   "metadata": {},
   "outputs": [],
   "source": [
    "import numpy as np \n",
    "x = np.linspace(-1, 1, 10000)\n",
    "y = np.linspace(-1, 1, 10000)\n"
   ]
  },
  {
   "cell_type": "code",
   "execution_count": 201,
   "metadata": {},
   "outputs": [],
   "source": [
    "X = torch.Tensor(np.array(list(zip(x, y))))\n"
   ]
  },
  {
   "cell_type": "code",
   "execution_count": 205,
   "metadata": {
    "scrolled": true
   },
   "outputs": [],
   "source": [
    "p = net(X.cuda()).reshape(100,100).detach().cpu().sigmoid().numpy()"
   ]
  },
  {
   "cell_type": "code",
   "execution_count": 208,
   "metadata": {},
   "outputs": [
    {
     "data": {
      "text/plain": [
       "<matplotlib.image.AxesImage at 0x7f26adc57fd0>"
      ]
     },
     "execution_count": 208,
     "metadata": {},
     "output_type": "execute_result"
    },
    {
     "data": {
      "image/png": "[encoded data removed]",
      "text/plain": [
       "<Figure size 432x288 with 1 Axes>"
      ]
     },
     "metadata": {
      "needs_background": "light"
     },
     "output_type": "display_data"
    }
   ],
   "source": []
  },
  {
   "cell_type": "code",
   "execution_count": 215,
   "metadata": {},
   "outputs": [
    {
     "data": {
      "text/plain": [
       "BCEWithLogitsLoss()"
      ]
     },
     "execution_count": 215,
     "metadata": {},
     "output_type": "execute_result"
    }
   ],
   "source": []
  },
  {
   "cell_type": "code",
   "execution_count": null,
   "metadata": {},
   "outputs": [],
   "source": []
  }
 ],
 "metadata": {
  "kernelspec": {
   "display_name": "Python [default]",
   "language": "python",
   "name": "python3"
  },
  "language_info": {
   "codemirror_mode": {
    "name": "ipython",
    "version": 3
   },
   "file_extension": ".py",
   "mimetype": "text/x-python",
   "name": "python",
   "nbconvert_exporter": "python",
   "pygments_lexer": "ipython3",
   "version": "3.6.4"
  }
 },
 "nbformat": 4,
 "nbformat_minor": 2
}
