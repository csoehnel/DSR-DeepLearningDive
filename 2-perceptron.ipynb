{
 "cells": [
  {
   "cell_type": "code",
   "execution_count": 148,
   "metadata": {},
   "outputs": [],
   "source": [
    "from sklearn.datasets import make_blobs, make_moons\n",
    "import torch\n",
    "from torch import nn\n",
    "import pandas as pd\n",
    "import seaborn as sns\n",
    "import seaborn\n",
    "from torch.optim import SGD\n",
    "import torch.nn.functional as F\n",
    "import numpy as np\n",
    "\n",
    "RANDOM_STATE = 45\n",
    "\n",
    "np.random.seed(RANDOM_STATE)\n",
    "\n",
    "import matplotlib.pyplot as plt\n",
    "%matplotlib inline\n",
    "\n",
    "DEVICE = 'cuda' if torch.cuda.is_available() else 'cpu'\n",
    "\n",
    "\n",
    "def plot_decision_boundry(net, X, line='g--'):\n",
    "    W = net.fc.weight[0].detach().cpu().numpy()\n",
    "    b = net.fc.bias.detach().cpu().numpy()\n",
    "    f = lambda x: (-W[0]/W[1]) * x +  (-b/W[1])\n",
    "    dziedz = np.arange(-1, 1, 0.01)\n",
    "    plt.plot(dziedz, f(dziedz), line) \n",
    "    plt.xlim((-2, 2))\n",
    "    plt.ylim((-2, 2))"
   ]
  },
  {
   "cell_type": "markdown",
   "metadata": {},
   "source": [
    "# Prepare and Visualize data"
   ]
  },
  {
   "cell_type": "code",
   "execution_count": 149,
   "metadata": {},
   "outputs": [
    {
     "data": {
      "text/plain": [
       "<matplotlib.axes._subplots.AxesSubplot at 0x7f88099a9208>"
      ]
     },
     "execution_count": 149,
     "metadata": {},
     "output_type": "execute_result"
    },
    {
     "data": {
      "image/png": "[encoded data removed]",
      "text/plain": [
       "<Figure size 432x288 with 1 Axes>"
      ]
     },
     "metadata": {
      "needs_background": "light"
     },
     "output_type": "display_data"
    }
   ],
   "source": [
    "N_FEATURES = 2\n",
    "\n",
    "\n",
    "X, Y = make_blobs(centers=2, center_box=(-10, 10), random_state=RANDOM_STATE, n_features=N_FEATURES)\n",
    "# X, Y = make_moons()\n",
    "\n",
    "X = X/np.abs(X).max()\n",
    "# Y_one_hot = ohe.fit_transform(Y.reshape(-1, 1)).toarray()\n",
    "\n",
    "data = pd.DataFrame(X, columns=['x1', 'x2'])\n",
    "data['target'] = Y\n",
    "seaborn.scatterplot(x='x1',y='x2', hue='target', data=data)"
   ]
  },
  {
   "cell_type": "code",
   "execution_count": 150,
   "metadata": {},
   "outputs": [
    {
     "data": {
      "text/html": [
       "<div>\n",
       "<style scoped>\n",
       "    .dataframe tbody tr th:only-of-type {\n",
       "        vertical-align: middle;\n",
       "    }\n",
       "\n",
       "    .dataframe tbody tr th {\n",
       "        vertical-align: top;\n",
       "    }\n",
       "\n",
       "    .dataframe thead th {\n",
       "        text-align: right;\n",
       "    }\n",
       "</style>\n",
       "<table border=\"1\" class=\"dataframe\">\n",
       "  <thead>\n",
       "    <tr style=\"text-align: right;\">\n",
       "      <th></th>\n",
       "      <th>A</th>\n",
       "      <th>B</th>\n",
       "    </tr>\n",
       "  </thead>\n",
       "  <tbody>\n",
       "    <tr>\n",
       "      <th>0</th>\n",
       "      <td>0.707380</td>\n",
       "      <td>-0.133517</td>\n",
       "    </tr>\n",
       "    <tr>\n",
       "      <th>1</th>\n",
       "      <td>-0.316867</td>\n",
       "      <td>-0.817494</td>\n",
       "    </tr>\n",
       "    <tr>\n",
       "      <th>2</th>\n",
       "      <td>0.792607</td>\n",
       "      <td>0.064959</td>\n",
       "    </tr>\n",
       "    <tr>\n",
       "      <th>3</th>\n",
       "      <td>-0.323771</td>\n",
       "      <td>-0.660196</td>\n",
       "    </tr>\n",
       "    <tr>\n",
       "      <th>4</th>\n",
       "      <td>-0.405178</td>\n",
       "      <td>-0.645079</td>\n",
       "    </tr>\n",
       "  </tbody>\n",
       "</table>\n",
       "</div>"
      ],
      "text/plain": [
       "          A         B\n",
       "0  0.707380 -0.133517\n",
       "1 -0.316867 -0.817494\n",
       "2  0.792607  0.064959\n",
       "3 -0.323771 -0.660196\n",
       "4 -0.405178 -0.645079"
      ]
     },
     "execution_count": 150,
     "metadata": {},
     "output_type": "execute_result"
    }
   ],
   "source": [
    "pd.DataFrame(X, columns = ['A', 'B']).head()"
   ]
  },
  {
   "cell_type": "code",
   "execution_count": 151,
   "metadata": {},
   "outputs": [
    {
     "data": {
      "text/html": [
       "<div>\n",
       "<style scoped>\n",
       "    .dataframe tbody tr th:only-of-type {\n",
       "        vertical-align: middle;\n",
       "    }\n",
       "\n",
       "    .dataframe tbody tr th {\n",
       "        vertical-align: top;\n",
       "    }\n",
       "\n",
       "    .dataframe thead th {\n",
       "        text-align: right;\n",
       "    }\n",
       "</style>\n",
       "<table border=\"1\" class=\"dataframe\">\n",
       "  <thead>\n",
       "    <tr style=\"text-align: right;\">\n",
       "      <th></th>\n",
       "      <th>Y</th>\n",
       "    </tr>\n",
       "  </thead>\n",
       "  <tbody>\n",
       "    <tr>\n",
       "      <th>0</th>\n",
       "      <td>0</td>\n",
       "    </tr>\n",
       "    <tr>\n",
       "      <th>1</th>\n",
       "      <td>1</td>\n",
       "    </tr>\n",
       "    <tr>\n",
       "      <th>2</th>\n",
       "      <td>0</td>\n",
       "    </tr>\n",
       "    <tr>\n",
       "      <th>3</th>\n",
       "      <td>1</td>\n",
       "    </tr>\n",
       "    <tr>\n",
       "      <th>4</th>\n",
       "      <td>1</td>\n",
       "    </tr>\n",
       "  </tbody>\n",
       "</table>\n",
       "</div>"
      ],
      "text/plain": [
       "   Y\n",
       "0  0\n",
       "1  1\n",
       "2  0\n",
       "3  1\n",
       "4  1"
      ]
     },
     "execution_count": 151,
     "metadata": {},
     "output_type": "execute_result"
    }
   ],
   "source": [
    "pd.DataFrame(Y, columns = ['Y']).head()"
   ]
  },
  {
   "cell_type": "markdown",
   "metadata": {},
   "source": [
    "# Define the perceptron\n",
    "\n",
    "\n",
    "![alt text](https://i.stack.imgur.com/2MVdW.png \"Title\")\n"
   ]
  },
  {
   "cell_type": "code",
   "execution_count": 152,
   "metadata": {},
   "outputs": [
    {
     "name": "stdout",
     "output_type": "stream",
     "text": [
      "tensor([[1.5964, 0.4434]])\n",
      "Parameter containing:\n",
      "tensor([[-0.5960, -0.4890]], requires_grad=True)\n",
      "Parameter containing:\n",
      "tensor([0.2177], requires_grad=True)\n",
      "tensor([[-0.9506]], grad_fn=<AddmmBackward>)\n",
      "Manual computation: [[-0.9505534]]\n"
     ]
    }
   ],
   "source": [
    "input_tensor = torch.randn((1, 2))\n",
    "linear_layer = nn.Linear(2, 1)\n",
    "linear_layer(input_tensor)\n",
    "\n",
    "print(input_tensor)\n",
    "print(linear_layer.weight)\n",
    "print(linear_layer.bias)\n",
    "print(linear_layer(input_tensor))\n",
    "print(f'Manual computation: {np.dot(linear_layer.weight.detach().numpy(), input_tensor.detach().numpy().transpose()) + linear_layer.bias.detach().numpy()}')"
   ]
  },
  {
   "cell_type": "code",
   "execution_count": 153,
   "metadata": {},
   "outputs": [
    {
     "name": "stdout",
     "output_type": "stream",
     "text": [
      "fc weight Parameter containing:\n",
      "tensor([[-1.2424, -0.1213]], requires_grad=True)\n",
      "bias weight Parameter containing:\n",
      "tensor([0.0500], requires_grad=True)\n"
     ]
    },
    {
     "name": "stderr",
     "output_type": "stream",
     "text": [
      "/opt/conda/envs/dsr/lib/python3.6/site-packages/ipykernel_launcher.py:16: UserWarning: nn.init.xavier_uniform is now deprecated in favor of nn.init.xavier_uniform_.\n",
      "  app.launch_new_instance()\n"
     ]
    }
   ],
   "source": [
    "class Perceptron(nn.Module):\n",
    "    def __init__(self, n_in, n_out):\n",
    "\n",
    "        super(Perceptron, self).__init__()\n",
    "        self.fc = nn.Linear(n_in, n_out, bias=True)\n",
    "        #self.fc1 = nn.Linear(n_in, 4, bias = True)\n",
    "        #self.fc = nn.Linear(4, n_out, bias = True)\n",
    "    \n",
    "    def forward(self, x):\n",
    "        #x = self.fc1(x)\n",
    "        return F.relu(self.fc(x))\n",
    "        #return F.relu(self.fc(x))\n",
    "\n",
    "def custom_weights(m):\n",
    "    if type(m) == nn.Linear:\n",
    "        torch.nn.init.xavier_uniform(m.weight)\n",
    "        m.bias.data.fill_(0.05)\n",
    "        \n",
    "def custom_weights_zero(m):\n",
    "    if type(m) == nn.Linear:\n",
    "        torch.nn.init.constant(m.weight, 0.0)\n",
    "        m.bias.data.fill_(0.0)\n",
    "        \n",
    "perceptron = Perceptron(2, 1)\n",
    "\n",
    "# Linear layers get their weights initialized by default, but you can reinitialize them if needed.\n",
    "perceptron.apply(custom_weights)\n",
    "#perceptron.apply(custom_weights_zero)\n",
    "\n",
    "print(\"fc weight\", perceptron.fc.weight)\n",
    "print(\"bias weight\", perceptron.fc.bias)"
   ]
  },
  {
   "cell_type": "markdown",
   "metadata": {},
   "source": [
    "# Train Loop Using CrossEntropy\n",
    "\n",
    "\n",
    "\n",
    "While using crossentropy loss our model needs to return (BS, n_classes) output tensor, the target has to be a coresponding dense label vector of shape (BS, 1)"
   ]
  },
  {
   "cell_type": "code",
   "execution_count": 154,
   "metadata": {},
   "outputs": [
    {
     "name": "stdout",
     "output_type": "stream",
     "text": [
      "Parameter containing:\n",
      "tensor([[-1.2424, -0.1213]], requires_grad=True)\n",
      "Parameter containing:\n",
      "tensor([0.0500], requires_grad=True)\n"
     ]
    }
   ],
   "source": [
    "my_net = perceptron\n",
    "A = list(my_net.parameters())\n",
    "print(A[0])\n",
    "print(A[1])"
   ]
  },
  {
   "cell_type": "code",
   "execution_count": 158,
   "metadata": {
    "scrolled": false
   },
   "outputs": [
    {
     "data": {
      "application/vnd.jupyter.widget-view+json": {
       "model_id": "0b98eb3f37c64c558392b8098d8533cf",
       "version_major": 2,
       "version_minor": 0
      },
      "text/plain": [
       "HBox(children=(IntProgress(value=0), HTML(value='')))"
      ]
     },
     "metadata": {},
     "output_type": "display_data"
    },
    {
     "name": "stdout",
     "output_type": "stream",
     "text": [
      "\n",
      "input shape (BS, n_classes): torch.Size([1, 2])\n",
      "target shape (BS, 1): torch.Size([1, 1])\n",
      "output shape torch.Size([1, 1])\n"
     ]
    },
    {
     "data": {
      "image/png": "[encoded data removed]",
      "text/plain": [
       "<Figure size 432x288 with 1 Axes>"
      ]
     },
     "metadata": {
      "needs_background": "light"
     },
     "output_type": "display_data"
    }
   ],
   "source": [
    "from tqdm import tqdm_notebook as tqdm\n",
    "\n",
    "N_EPOCHS = 100\n",
    "\n",
    "# init the model, loss and optimizer\n",
    "net = Perceptron(2, 1)\n",
    "optimizer = SGD(net.parameters(), lr=0.001)\n",
    "criterion = nn.BCEWithLogitsLoss() # Sigmoid also done in loss, not in activation, because numer. more stable\n",
    "\n",
    "net = net.to(DEVICE)\n",
    "\n",
    "loss_history = []\n",
    "\n",
    "with tqdm(total=N_EPOCHS) as pbar:\n",
    "\n",
    "    for epoch in range(N_EPOCHS):\n",
    "\n",
    "        #print(\"training epoch {}\".format(epoch))\n",
    "        pbar.update(1)\n",
    "        pbar.set_description('processed: %d' % (1 + epoch))\n",
    "\n",
    "        for xsample,ysample in zip(X, Y):\n",
    "\n",
    "            # zero the gradients at start of every mini-batch, otherwise would accumulate\n",
    "            optimizer.zero_grad() \n",
    "\n",
    "            # batch preparation\n",
    "            x = torch.Tensor(xsample).unsqueeze(0) # tensor([[0.8745, 0.5205]]) torch.Size([1, 2])\n",
    "            y = torch.Tensor([ysample]).unsqueeze(0) # tensor([[1.]]) torch.Size([1, 1])\n",
    "            x = x.to(DEVICE) # moves data to device\n",
    "            y = y.to(DEVICE) # moves data to device\n",
    "\n",
    "            # forward pass\n",
    "            out = net(x)\n",
    "\n",
    "            # loss calculation\n",
    "            loss = criterion(out, y)\n",
    "\n",
    "            #import pdb\n",
    "            #pdb.set_trace()\n",
    "\n",
    "            # calculating gradients\n",
    "            loss.backward()\n",
    "\n",
    "            # changing the weights by specified(in the optimizer init) learning rate using reference on parameters assigned above\n",
    "            optimizer.step()\n",
    "\n",
    "            #append calculated loss to the history\n",
    "            loss_history.append(loss.detach().cpu().numpy())\n",
    "\n",
    "            #print(f'Training loss = {loss.detach().cpu().numpy()}')\n",
    "            #from neptune import Context\n",
    "            #ctx = Context()\n",
    "            #ctx.channel_send(loss.detach().cpu().numpy())\n",
    "\n",
    "        plot_decision_boundry(net, X)\n",
    "    \n",
    "# at the end plot final solution in red\n",
    "plot_decision_boundry(net, X, 'r-')\n",
    "seaborn.scatterplot(x='x1',y='x2', hue='target', data=data)\n",
    "\n",
    "        \n",
    "print(\"input shape (BS, n_classes):\", x.shape)\n",
    "print(\"target shape (BS, 1):\", y.shape)\n",
    "print(\"output shape\", out.shape)"
   ]
  },
  {
   "cell_type": "code",
   "execution_count": 159,
   "metadata": {
    "scrolled": true
   },
   "outputs": [
    {
     "data": {
      "text/plain": [
       "Text(0, 0.5, 'loss (CE)')"
      ]
     },
     "execution_count": 159,
     "metadata": {},
     "output_type": "execute_result"
    },
    {
     "data": {
      "image/png": "[encoded data removed]",
      "text/plain": [
       "<Figure size 432x288 with 1 Axes>"
      ]
     },
     "metadata": {
      "needs_background": "light"
     },
     "output_type": "display_data"
    }
   ],
   "source": [
    "history = pd.DataFrame(loss_history, columns=['loss'])\n",
    "history.loss.rolling(50).mean().plot()\n",
    "plt.title(\"loss\")\n",
    "plt.xlabel(\"batch number\")\n",
    "plt.ylabel(\"loss (CE)\")"
   ]
  },
  {
   "cell_type": "code",
   "execution_count": 136,
   "metadata": {},
   "outputs": [
    {
     "data": {
      "text/plain": [
       "tensor([[0.]])"
      ]
     },
     "execution_count": 136,
     "metadata": {},
     "output_type": "execute_result"
    }
   ],
   "source": [
    "y\n"
   ]
  },
  {
   "cell_type": "markdown",
   "metadata": {},
   "source": [
    "#### Exercises\n",
    "- Play with the training loop, enojoy the fact that you can inspect all the values dynamically. Consider using pdb.set_trace() for instance\n",
    "- Can you edit the Perceptron class to create a Multi Layer Perceptron? (ie having more then 0 hidden layers)\n",
    "- Initialize the the initial weights to 0. What do you think will happen? Can we still train the perceptron?\n",
    "- What kind of gradient descnet are we using here? Stochastic? Batch? or Vanilla?\n",
    "- What does detach do and why do we have to call it? (use google)\n",
    "- Try adding a RELU activation after Linear unit - Will it train of not why?\n",
    "- Try to implement a progress-bar (it might come in handy in our future exercises to)\n",
    " "
   ]
  },
  {
   "cell_type": "markdown",
   "metadata": {},
   "source": [
    "1/7: Done\n",
    "\n",
    "\n",
    "2/7: Done. Attention, plot of decision boundary not valid for MLP!\n",
    "\n",
    "\n",
    "3/7: Trains and gives similar results. Network too shallow for showing downsides of zero-inits.\n",
    "\n",
    "\n",
    "4/7: SGD\n",
    "\n",
    "\n",
    "5/7: The detach() method constructs a new view on a tensor which is declared not to need gradients, i.e., it is to be excluded from further tracking of operations, and therefore the subgraph involving this view is not recorded. We need this to get values into numpy.\n",
    "\n",
    "\n",
    "6/7: Should change loss function to one without Sigmoid. Started predicting zero class more, because negative values are \"assigned\" to, i. e. cut-off at zero. Keeping loss with Sigmoid: Sigmoid of zero is also zero. Never use Relu in last layer except want to regress continuous values that are always positive.\n",
    "\n",
    "\n",
    "7/7: Done."
   ]
  },
  {
   "cell_type": "code",
   "execution_count": 10,
   "metadata": {},
   "outputs": [
    {
     "name": "stderr",
     "output_type": "stream",
     "text": [
      "/opt/conda/envs/dsr/lib/python3.6/site-packages/IPython/core/display.py:689: UserWarning: Consider using IPython.display.IFrame instead\n",
      "  warnings.warn(\"Consider using IPython.display.IFrame instead\")\n"
     ]
    },
    {
     "data": {
      "text/html": [
       "<iframe src=https://playground.tensorflow.org/#activation=tanh&batchSize=10&dataset=gauss&regDataset=reg-plane&learningRate=0.03&regularizationRate=0&noise=0&networkShape=&seed=0.19214&showTestData=false&discretize=false&percTrainData=50&x=true&y=true&xTimesY=false&xSquared=false&ySquared=false&cosX=false&sinX=false&cosY=false&sinY=false&collectStats=false&problem=classification&initZero=false&hideText=false width=1000 height=600></iframe>"
      ],
      "text/plain": [
       "<IPython.core.display.HTML object>"
      ]
     },
     "execution_count": 10,
     "metadata": {},
     "output_type": "execute_result"
    }
   ],
   "source": [
    "from IPython.display import HTML\n",
    "HTML('<iframe src=https://playground.tensorflow.org/#activation=tanh&batchSize=10&dataset=gauss&regDataset=reg-plane&learningRate=0.03&regularizationRate=0&noise=0&networkShape=&seed=0.19214&showTestData=false&discretize=false&percTrainData=50&x=true&y=true&xTimesY=false&xSquared=false&ySquared=false&cosX=false&sinX=false&cosY=false&sinY=false&collectStats=false&problem=classification&initZero=false&hideText=false width=1000 height=600></iframe>')"
   ]
  },
  {
   "cell_type": "code",
   "execution_count": null,
   "metadata": {},
   "outputs": [],
   "source": []
  }
 ],
 "metadata": {
  "kernelspec": {
   "display_name": "Python 3",
   "language": "python",
   "name": "python3"
  },
  "language_info": {
   "codemirror_mode": {
    "name": "ipython",
    "version": 3
   },
   "file_extension": ".py",
   "mimetype": "text/x-python",
   "name": "python",
   "nbconvert_exporter": "python",
   "pygments_lexer": "ipython3",
   "version": "3.6.6"
  }
 },
 "nbformat": 4,
 "nbformat_minor": 2
}
