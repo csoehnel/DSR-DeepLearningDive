{
 "cells": [
  {
   "cell_type": "markdown",
   "metadata": {},
   "source": [
    "### Creating an image classifier able to find sneakers in instagram posts\n",
    "\n",
    "The data comprises of few thousand images of sneakers collected using google images and instagram\n",
    "and few thousand images of sneakers.    \n",
    "Your goal is to use what you learned from previous examples and create a sneaker-not-sneaker binary classifier.\n",
    "\n",
    "The task comprises of multiple sub-tasks that you need to do to build the classifier.\n",
    "\n",
    "1. Create a dataset able to load data from new_meta_sneakers.csv\n",
    "2. Create a fine tune binary classification architecture.\n",
    "3. Create a training loop and train your model.\n",
    "\n",
    "![title](sneakers.png)\n"
   ]
  },
  {
   "cell_type": "markdown",
   "metadata": {},
   "source": [
    "### On the bottom of the following cell you see the data you will work with"
   ]
  },
  {
   "cell_type": "code",
   "execution_count": 1,
   "metadata": {
    "scrolled": true
   },
   "outputs": [],
   "source": [
    "%matplotlib inline\n",
    "from torch import nn\n",
    "import easyimages\n",
    "import pandas as pd\n",
    "import os\n",
    "from torch.utils.data import Dataset, DataLoader, Sampler\n",
    "from pretrainedmodels.models import resnet50\n",
    "from torchvision.transforms import transforms\n",
    "from sklearn.model_selection import train_test_split\n",
    "from sklearn.metrics import log_loss, accuracy_score\n",
    "\n",
    "import matplotlib.pyplot as plt\n",
    "import torch \n",
    "DEVICE = 'cuda' if torch.cuda.is_available() else 'cpu'"
   ]
  },
  {
   "cell_type": "code",
   "execution_count": 2,
   "metadata": {
    "scrolled": true
   },
   "outputs": [
    {
     "data": {
      "text/html": [
       "<div>\n",
       "<style scoped>\n",
       "    .dataframe tbody tr th:only-of-type {\n",
       "        vertical-align: middle;\n",
       "    }\n",
       "\n",
       "    .dataframe tbody tr th {\n",
       "        vertical-align: top;\n",
       "    }\n",
       "\n",
       "    .dataframe thead th {\n",
       "        text-align: right;\n",
       "    }\n",
       "</style>\n",
       "<table border=\"1\" class=\"dataframe\">\n",
       "  <thead>\n",
       "    <tr style=\"text-align: right;\">\n",
       "      <th></th>\n",
       "      <th>index</th>\n",
       "      <th>image_path</th>\n",
       "      <th>tags</th>\n",
       "    </tr>\n",
       "  </thead>\n",
       "  <tbody>\n",
       "    <tr>\n",
       "      <th>21959</th>\n",
       "      <td>21959</td>\n",
       "      <td>/home/SharedFolder/DSR-Batch17/fashion_classif...</td>\n",
       "      <td>1</td>\n",
       "    </tr>\n",
       "    <tr>\n",
       "      <th>64946</th>\n",
       "      <td>64946</td>\n",
       "      <td>/home/SharedFolder/DSR-Batch17/fashion_classif...</td>\n",
       "      <td>0</td>\n",
       "    </tr>\n",
       "    <tr>\n",
       "      <th>66694</th>\n",
       "      <td>66694</td>\n",
       "      <td>/home/SharedFolder/DSR-Batch17/fashion_classif...</td>\n",
       "      <td>0</td>\n",
       "    </tr>\n",
       "    <tr>\n",
       "      <th>33410</th>\n",
       "      <td>33410</td>\n",
       "      <td>/home/SharedFolder/DSR-Batch17/fashion_classif...</td>\n",
       "      <td>1</td>\n",
       "    </tr>\n",
       "    <tr>\n",
       "      <th>50658</th>\n",
       "      <td>50658</td>\n",
       "      <td>/home/SharedFolder/DSR-Batch17/fashion_classif...</td>\n",
       "      <td>0</td>\n",
       "    </tr>\n",
       "  </tbody>\n",
       "</table>\n",
       "</div>"
      ],
      "text/plain": [
       "       index                                         image_path  tags\n",
       "21959  21959  /home/SharedFolder/DSR-Batch17/fashion_classif...     1\n",
       "64946  64946  /home/SharedFolder/DSR-Batch17/fashion_classif...     0\n",
       "66694  66694  /home/SharedFolder/DSR-Batch17/fashion_classif...     0\n",
       "33410  33410  /home/SharedFolder/DSR-Batch17/fashion_classif...     1\n",
       "50658  50658  /home/SharedFolder/DSR-Batch17/fashion_classif...     0"
      ]
     },
     "execution_count": 2,
     "metadata": {},
     "output_type": "execute_result"
    }
   ],
   "source": [
    "DATASET_USAGE_PERCENTAGE = 1.0\n",
    "\n",
    "base_path ='/home/SharedFolder/DSR-Batch17/fashion_classify_data/'\n",
    "#df = pd.read_csv(os.path.join(base_path,'new_meta_sneakers.csv')).sample(frac=1)\n",
    "df = pd.read_csv(os.path.join(base_path,'new_meta_sneakers_uuid.csv')).sample(frac=1)\n",
    "df.image_path = base_path +df.image_path\n",
    "df.tags = df.tags.map({'sneakers': 1, 'negatives': 0})\n",
    "df = df.sample(frac=DATASET_USAGE_PERCENTAGE)\n",
    "df.head()"
   ]
  },
  {
   "cell_type": "code",
   "execution_count": null,
   "metadata": {},
   "outputs": [],
   "source": [
    "# Only needed if we don't use the proper named dataset\n",
    "\n",
    "import pathlib \n",
    "\n",
    "base = pathlib.Path(base_path)\n",
    "sneakers_path = base / 'sneakers'\n",
    "negatives_path = base/ 'negatives'\n",
    "sneakers = [str(a) for a in sneakers_path.glob('*')]\n",
    "negatives = [str(a) for a in negatives_path.glob('*')]\n",
    "ones = [1] * len(sneakers)\n",
    "zeros = [0] * len(negatives)\n",
    "df = pd.DataFrame()\n",
    "df['image_path'] = sneakers + negatives\n",
    "df['tags'] = ones + zeros\n",
    "\n",
    "failed_ix = []\n",
    "for i, image_path in enumerate(df.image_path):\n",
    "    try:\n",
    "        PIL.Image.open(pathlib.Path(image_path))\n",
    "    except Exception as e:\n",
    "        #print(e)\n",
    "        #print(\"Failed opening\")\n",
    "        failed_ix.append(i)\n",
    "        \n",
    "#print('missing files:')\n",
    "#df.iloc[failed_ix]\n",
    "df = df.drop(failed_ix)"
   ]
  },
  {
   "cell_type": "markdown",
   "metadata": {},
   "source": [
    "### Creating the torch Dataset.\n",
    "\n",
    "First thing we need to do is create a dataset able to load our data. Since our metadata is stored in a csv file, our \n",
    "dataset should accept this file as a base source of what needs to be loaded.\n",
    "\n",
    "Our dataset should also support augumentations and a \"inference\" mode wich disables them for predicting.\n"
   ]
  },
  {
   "cell_type": "code",
   "execution_count": 3,
   "metadata": {},
   "outputs": [
    {
     "name": "stdout",
     "output_type": "stream",
     "text": [
      "/home/SharedFolder/DSR-Batch17/fashion_classify_data/sneakers_uuid/7535da5fe27a4fabab81a2471569b225.jpg\n",
      "1\n",
      "74549\n"
     ]
    }
   ],
   "source": [
    "print(df.iloc[3]['image_path'])\n",
    "print(df.iloc[3]['tags'])\n",
    "print(len(df))"
   ]
  },
  {
   "cell_type": "code",
   "execution_count": 6,
   "metadata": {},
   "outputs": [
    {
     "name": "stderr",
     "output_type": "stream",
     "text": [
      "/opt/conda/envs/dsr/lib/python3.7/site-packages/PIL/Image.py:968: UserWarning: Palette images with Transparency   expressed in bytes should be converted to RGBA images\n",
      "  ' expressed in bytes should be converted ' +\n"
     ]
    }
   ],
   "source": [
    "from PIL import Image\n",
    "# quick-hack to put the images into RAM\n",
    "_image_prefetch = []\n",
    "_label_prefetch = []\n",
    "for i in range(len(df)):\n",
    "    img = Image.open(df.iloc[i]['image_path']).convert('RGB')\n",
    "    img = img.resize((224 , 224), Image.ANTIALIAS)\n",
    "    lbl = df.iloc[i]['tags']\n",
    "    _image_prefetch.append(img)\n",
    "    _label_prefetch.append(lbl)"
   ]
  },
  {
   "cell_type": "code",
   "execution_count": 35,
   "metadata": {},
   "outputs": [],
   "source": [
    "import PIL\n",
    "from PIL import Image\n",
    "import io\n",
    "import requests\n",
    "import torch\n",
    "from random import randint\n",
    "\n",
    "class OneClassImageClassificationDataset(Dataset):\n",
    "    def __init__(self, annotations, image_transform, _image_prefetch, _label_prefetch):\n",
    "        \"\"\"\n",
    "        annotations is a pandas dataframe\n",
    "        \n",
    "        \"\"\"\n",
    "        super().__init__()\n",
    "        self.annotations = annotations\n",
    "        self.image_transform = image_transform\n",
    "        self._image_prefetch = _image_prefetch #added for speedup\n",
    "        self._label_prefetch = _label_prefetch #added for speedup\n",
    "\n",
    "    def __len__(self):\n",
    "        \"\"\"\n",
    "        Return the length of the annotations dataframe\n",
    "        \"\"\"\n",
    "        # your code here\n",
    "        #return len(self.annotations)\n",
    "        return len(self._label_prefetch)\n",
    "\n",
    "    def __getitem__(self, index):\n",
    "        \"\"\"\n",
    "        Using methods you wrote:\n",
    "        1 - load image from disk for given index  (self.load_from_disk)\n",
    "        2 - transform image (self.image_transform)\n",
    "        3 - Load target (self.load_target)\n",
    "        return Xi, yi\n",
    "        \"\"\"\n",
    "        #try:\n",
    "        #Xi = self.image_transform(self.load_from_disk(index))\n",
    "        #yi = self.load_target(index)\n",
    "        #Xi = self.image_transform(_image_prefetch[index])\n",
    "        #yi = _label_prefetch[index]\n",
    "        Xi = self.image_transform(self._image_prefetch[index])\n",
    "        yi = self._label_prefetch[index]        \n",
    "        #except OSError as e:\n",
    "        #    Xi, yi = self.__getitem__(randint(0, len(self.annotations)))\n",
    "        return Xi, yi\n",
    "\n",
    "    def load_to_pil(self, uri):\n",
    "        \"\"\"\n",
    "        Write a helper function that uses PIL.Image to load a file and convert to RGB and returns it\n",
    "        \n",
    "        \"\"\"\n",
    "        image_pil = PIL.Image.open(uri).convert('RGB')\n",
    "        return image_pil\n",
    "\n",
    "\n",
    "    def load_from_disk(self, index):\n",
    "        \"\"\"\n",
    "        Loads an image from disk given a index.\n",
    "        It gets the path of an image with the corresponding index from the metadata \n",
    "        It passes the URI to the self.load_to_pil and returns a PIL.Image\n",
    "        \"\"\"\n",
    "        image_path = self.annotations.iloc[index]['image_path']\n",
    "        return self.load_to_pil(image_path)\n",
    "\n",
    "    def load_target(self, index):\n",
    "        \"\"\"\n",
    "        This function should get the tag for a given index from the annotations dataframe\n",
    "        You .iloc can become useful.    \n",
    "        This methods should return, either a 0 or a 1.\n",
    "        \"\"\"\n",
    "        label = self.annotations.iloc[index]['tags']\n",
    "        return label\n",
    "    \n",
    "    \n",
    "class BaseSampler(Sampler):\n",
    "    def __init__(self, df, n_samples):\n",
    "        self.df = df\n",
    "        self.n_samples = n_samples\n",
    "        \n",
    "    def __iter__(self):\n",
    "        return iter(self._get_sample())\n",
    "        \n",
    "    def __len__(self):\n",
    "        return self.n_samples\n",
    "    \n",
    "    def _get_sample(self):\n",
    "        return np.random.choice(len(self.df), self.n_samples, replace=False)\n",
    "        \n",
    "def binary_classification_model():\n",
    "    \"\"\"\n",
    "    Write a function that loads a resnet50 model from pretrainedmodels. \n",
    "    - freezes its layers\n",
    "    - replaces the last_linear with the proper output number. As we did in previous example.\n",
    "    - replace avgpool with adaptiv pooling.\n",
    "    \"\"\"\n",
    "    model = resnet50(pretrained = 'imagenet')\n",
    "    model.eval()\n",
    "    for params in model.parameters():\n",
    "        params.requires_grad = False\n",
    "    model.avgpool = nn.AdaptiveAvgPool2d(1)\n",
    "    model.last_linear = nn.Sequential(nn.Linear(model.last_linear.in_features, 1024), nn.Linear(1024, 1))\n",
    "    return model"
   ]
  },
  {
   "cell_type": "code",
   "execution_count": 36,
   "metadata": {},
   "outputs": [],
   "source": [
    "# YOUR CODE HERE:\n",
    "# SPLIT the dataframe into df_train, df_test (think about using sklearn.model_selection.train_test_split)\n",
    "#df_train, df_test = train_test_split(df, train_size=0.8)\n",
    "#df_train = df_train.reset_index()\n",
    "#df_test = df_test.reset_index()\n",
    "X_train, X_test, y_train, y_test = train_test_split(_image_prefetch, _label_prefetch, train_size = 0.8)\n",
    "\n",
    "MEAN = [0.485, 0.456, 0.406]\n",
    "STD = [0.229, 0.224, 0.225]\n",
    "N_EPOCHS = 10\n",
    "BATCH_SIZE = 32\n",
    "IMAGE_SIZE = 224\n",
    "\n",
    "image_transform_train = transforms.Compose([\n",
    "    transforms.Resize((IMAGE_SIZE, IMAGE_SIZE)),\n",
    "    transforms.ToTensor(),\n",
    "    transforms.Normalize(mean = MEAN, std = STD)])\n",
    "\n",
    "# YOUR CODE define image_transform_test\n",
    "image_transform_test = transforms.Compose([\n",
    "    transforms.Resize((IMAGE_SIZE, IMAGE_SIZE)),\n",
    "    transforms.ToTensor(),\n",
    "    transforms.Normalize(mean = MEAN, std = STD)])\n",
    "\n",
    "# YOUR CODE define the crieterion\n",
    "criterion = nn.BCEWithLogitsLoss()\n",
    "#criterion = nn.CrossEntropyLoss()\n",
    "\n",
    "net = binary_classification_model()\n",
    "\n",
    "optimizer = getattr(torch.optim, 'Adam')(net.parameters(), lr = 0.001)\n",
    "\n",
    "# initialize the BaseSampler with 1000 samples per epoch\n",
    "bs = BaseSampler(df_train, 1000)\n",
    "\n",
    "# YOUR CODE\n",
    "# Instantiate the OneClassImageClassificationDatasets\n",
    "#train_ds = OneClassImageClassificationDataset(df_train, image_transform_train)\n",
    "#test_ds = OneClassImageClassificationDataset(df_test, image_transform_test)\n",
    "train_ds = OneClassImageClassificationDataset(None, image_transform_train, X_train, y_train)\n",
    "test_ds = OneClassImageClassificationDataset(None, image_transform_test, X_test, y_test)\n",
    "\n",
    "#YOUR CODE\n",
    "#Initialize your DataLoader (using datasets)\n",
    "train_dl = DataLoader(train_ds, batch_size = BATCH_SIZE, sampler = bs, num_workers = 0)\n",
    "test_dl = DataLoader(test_ds, batch_size = BATCH_SIZE)"
   ]
  },
  {
   "cell_type": "code",
   "execution_count": 37,
   "metadata": {
    "scrolled": true
   },
   "outputs": [],
   "source": [
    "import numpy as np \n",
    "def evaluate_model(model, loader, print_info=False):\n",
    "    with torch.no_grad():\n",
    "        model.eval()\n",
    "        collect_results = []\n",
    "        collect_target = []\n",
    "        for batch in loader:\n",
    "            X, y = batch\n",
    "            X = X.to(DEVICE)\n",
    "            y = y.to(DEVICE).detach().cpu().numpy()\n",
    "            pred = model(X)\n",
    "            collect_results.append(pred.sigmoid().detach().cpu().numpy())\n",
    "            collect_target.append(y) \n",
    "    \n",
    "        preds_proba = np.concatenate(collect_results)\n",
    "        #preds = preds_proba.argmax(axis=1)\n",
    "        preds = preds_proba >= 0.5\n",
    "        #import pdb\n",
    "        #pdb.set_trace()\n",
    "        \n",
    "        targets = np.concatenate(collect_target)\n",
    "        \n",
    "        ll = log_loss(targets, preds_proba)\n",
    "        acc = accuracy_score(targets, preds)\n",
    "        if print_info:\n",
    "            print(\"test log-loss: {}\".format(ll))\n",
    "            print(\"overall accuracy:  {}\".format(acc))\n",
    "            #print(classification_report(targets, preds))\n",
    "        model.train()\n",
    "        \n",
    "        return ll, acc"
   ]
  },
  {
   "cell_type": "markdown",
   "metadata": {},
   "source": [
    "# Training Loop"
   ]
  },
  {
   "cell_type": "code",
   "execution_count": 38,
   "metadata": {},
   "outputs": [
    {
     "data": {
      "image/png": "[encoded data removed]",
      "text/plain": [
       "<Figure size 864x576 with 2 Axes>"
      ]
     },
     "metadata": {
      "needs_background": "light"
     },
     "output_type": "display_data"
    },
    {
     "name": "stdout",
     "output_type": "stream",
     "text": [
      "loss:\n",
      "training   (min:    0.305, max:    0.412, cur:    0.331)\n",
      "validation (min:    0.304, max:    0.417, cur:    0.313)\n",
      "\n",
      "acc:\n",
      "training   (min:    0.833, max:    0.886, cur:    0.871)\n",
      "validation (min:    0.828, max:    0.890, cur:    0.883)\n"
     ]
    }
   ],
   "source": [
    "from livelossplot import PlotLosses\n",
    "\n",
    "metrics = []\n",
    "metrics_names = ['loss_train','loss_test','acc_train','acc_test']\n",
    "losses = []\n",
    "net.to(DEVICE)\n",
    "\n",
    "liveloss = PlotLosses()\n",
    "\n",
    "for epoch in range(N_EPOCHS):\n",
    "    \n",
    "    logs = {}\n",
    "    \n",
    "    for X, y in train_dl:\n",
    "        X = X.to(DEVICE)\n",
    "        y = y.to(DEVICE)\n",
    "        optimizer.zero_grad()\n",
    "        ypred=net(X)\n",
    "        \n",
    "        #import pdb\n",
    "        #pdb.set_trace()\n",
    "        y = y.unsqueeze(1).float()\n",
    "        \n",
    "        loss = criterion(ypred, y)\n",
    "        loss.backward()\n",
    "        optimizer.step()\n",
    "        losses.append(loss.detach().cpu().numpy())\n",
    "        \n",
    "    testll, testacc = evaluate_model(net, test_dl)\n",
    "    trainll, trainacc = evaluate_model(net, train_dl)\n",
    "    #print(\"test: {} {}\".format(testll, testacc))\n",
    "    #print(\"train: {} {}\".format(trainll, trainacc))\n",
    "    metrics.append([trainll, testll, trainacc, testacc])\n",
    "    logs['val_loss'] = testll\n",
    "    logs['loss'] = trainll\n",
    "    logs['val_acc'] = testacc\n",
    "    logs['acc'] = trainacc\n",
    "    liveloss.update(logs)\n",
    "    liveloss.draw()"
   ]
  },
  {
   "cell_type": "code",
   "execution_count": null,
   "metadata": {},
   "outputs": [],
   "source": [
    "train_dl = DataLoader(train_ds, batch_size = 32, sampler = bs, num_workers = 0)\n",
    "train_dl12 = DataLoader(train_ds, batch_size = 32, sampler = bs, num_workers = 4)\n",
    "%%timeit\n",
    "trdl = next(iter(train_dl))"
   ]
  },
  {
   "cell_type": "code",
   "execution_count": 48,
   "metadata": {},
   "outputs": [],
   "source": [
    "# Error analysis\n",
    "from sklearn.metrics import confusion_matrix\n",
    "import pdb\n",
    "\n",
    "collect_results_ = []\n",
    "collect_targets_ = []\n",
    "\n",
    "with torch.no_grad():\n",
    "    net.eval()\n",
    "    for batch in test_dl:\n",
    "        X, y = batch\n",
    "        X = X.to(DEVICE)\n",
    "        y = y.to(DEVICE).detach().cpu().numpy()\n",
    "        y_pred = net(X)\n",
    "        collect_results_.append(y_pred.sigmoid().detach().cpu().numpy())\n",
    "        collect_targets_.append(y)\n",
    "    #pdb.set_trace()\n",
    "    preds_proba = np.concatenate(collect_results_)\n",
    "    targets = np.concatenate(collect_targets_)\n",
    "    preds = preds_proba >= 0.5\n",
    "    cnf_matrix = confusion_matrix(targets, preds)\n",
    "    "
   ]
  },
  {
   "cell_type": "code",
   "execution_count": 49,
   "metadata": {},
   "outputs": [
    {
     "data": {
      "text/plain": [
       "array([[6467,  591],\n",
       "       [1151, 6701]])"
      ]
     },
     "execution_count": 49,
     "metadata": {},
     "output_type": "execute_result"
    }
   ],
   "source": [
    "cnf_matrix"
   ]
  },
  {
   "cell_type": "code",
   "execution_count": 53,
   "metadata": {},
   "outputs": [],
   "source": [
    "import itertools\n",
    "\n",
    "def plot_confusion_matrix(cm, classes,\n",
    "                          normalize=False,\n",
    "                          title='Confusion matrix',\n",
    "                          cmap=plt.cm.Blues):\n",
    "    \"\"\"\n",
    "    This function prints and plots the confusion matrix.\n",
    "    Normalization can be applied by setting `normalize=True`.\n",
    "    \"\"\"\n",
    "    if normalize:\n",
    "        cm = cm.astype('float') / cm.sum(axis=1)[:, np.newaxis]\n",
    "        print(\"Normalized confusion matrix\")\n",
    "    else:\n",
    "        print('Confusion matrix, without normalization')\n",
    "\n",
    "    print(cm)\n",
    "\n",
    "    plt.imshow(cm, interpolation='nearest', cmap=cmap)\n",
    "    plt.title(title)\n",
    "    plt.colorbar()\n",
    "    tick_marks = np.arange(len(classes))\n",
    "    plt.xticks(tick_marks, classes, rotation=45)\n",
    "    plt.yticks(tick_marks, classes)\n",
    "\n",
    "    fmt = '.2f' if normalize else 'd'\n",
    "    thresh = cm.max() / 2.\n",
    "    for i, j in itertools.product(range(cm.shape[0]), range(cm.shape[1])):\n",
    "        plt.text(j, i, format(cm[i, j], fmt),\n",
    "                 horizontalalignment=\"center\",\n",
    "                 color=\"white\" if cm[i, j] > thresh else \"black\")\n",
    "\n",
    "    plt.ylabel('True label')\n",
    "    plt.xlabel('Predicted label')\n",
    "    plt.tight_layout()"
   ]
  },
  {
   "cell_type": "code",
   "execution_count": 54,
   "metadata": {},
   "outputs": [
    {
     "name": "stdout",
     "output_type": "stream",
     "text": [
      "Confusion matrix, without normalization\n",
      "[[6467  591]\n",
      " [1151 6701]]\n"
     ]
    },
    {
     "data": {
      "image/png": "[encoded data removed]",
      "text/plain": [
       "<Figure size 432x288 with 2 Axes>"
      ]
     },
     "metadata": {
      "needs_background": "light"
     },
     "output_type": "display_data"
    }
   ],
   "source": [
    "plot_confusion_matrix(cnf_matrix, ['Negatives', 'Sneakers'])"
   ]
  },
  {
   "cell_type": "code",
   "execution_count": null,
   "metadata": {},
   "outputs": [],
   "source": []
  }
 ],
 "metadata": {
  "kernelspec": {
   "display_name": "Python 3",
   "language": "python",
   "name": "python3"
  },
  "language_info": {
   "codemirror_mode": {
    "name": "ipython",
    "version": 3
   },
   "file_extension": ".py",
   "mimetype": "text/x-python",
   "name": "python",
   "nbconvert_exporter": "python",
   "pygments_lexer": "ipython3",
   "version": "3.7.2"
  }
 },
 "nbformat": 4,
 "nbformat_minor": 2
}
