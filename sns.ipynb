{
 "cells": [
  {
   "cell_type": "markdown",
   "metadata": {},
   "source": [
    "### Creating an image classifier able to find sneakers in instagram posts\n",
    "\n",
    "The data comprises of few thousand images of sneakers collected using google images and instagram\n",
    "and few thousand images of sneakers.    \n",
    "Your goal is to use what you learned from previous examples and create a sneaker-not-sneaker binary classifier.\n",
    "\n",
    "The task comprises of multiple sub-tasks that you need to do to build the classifier.\n",
    "\n",
    "1. Create a dataset able to load data from new_meta_sneakers.csv\n",
    "2. Create a fine tune binary classification architecture.\n",
    "3. Create a training loop and train your model.\n",
    "\n",
    "![title](sneakers.png)\n"
   ]
  },
  {
   "cell_type": "markdown",
   "metadata": {},
   "source": [
    "### On the bottom of the following cell you see the data you will work with"
   ]
  },
  {
   "cell_type": "code",
   "execution_count": 43,
   "metadata": {},
   "outputs": [],
   "source": [
    "%matplotlib inline\n",
    "from torch import nn\n",
    "import easyimages\n",
    "import pandas as pd\n",
    "import os\n",
    "from torch.utils.data import Dataset, DataLoader\n",
    "from pretrainedmodels.models import resnet50\n",
    "from torchvision.transforms import transforms\n",
    "from sklearn.model_selection import train_test_split\n",
    "from sklearn.metrics import log_loss, accuracy_score\n",
    "\n",
    "import matplotlib.pyplot as plt\n",
    "import torch \n",
    "DEVICE = 'cuda' if torch.cuda.is_available() else 'cpu'\n"
   ]
  },
  {
   "cell_type": "code",
   "execution_count": 44,
   "metadata": {
    "scrolled": true
   },
   "outputs": [],
   "source": [
    "DATASET_USAGE_PERCENTAGE = 1\n",
    "\n",
    "base_path ='/media/i008/ssd500/fashion_classify_data/'\n",
    "df = pd.read_csv(os.path.join(base_path,'new_meta_sneakers.csv')).sample(frac=1)\n",
    "df.image_path = base_path +df.image_path\n",
    "df.tags = df.tags.map({'sneakers': 1, 'negatives': 0})\n",
    "df = df.sample(frac=DATASET_USAGE_PERCENTAGE)\n"
   ]
  },
  {
   "cell_type": "markdown",
   "metadata": {},
   "source": [
    "### Creating the torch Dataset.\n",
    "\n",
    "First thing we need to do is create a dataset able to load our data. Since our metadata is stored in a csv file, our \n",
    "dataset should accept this file as a base source of what needs to be loaded.\n",
    "\n",
    "Our dataset should also support augumentations and a \"inference\" mode wich disables them for predicting.\n"
   ]
  },
  {
   "cell_type": "code",
   "execution_count": 45,
   "metadata": {},
   "outputs": [],
   "source": [
    "import PIL\n",
    "from PIL import Image\n",
    "import io\n",
    "import requests\n",
    "import torch\n",
    "from torch.utils.data import Sampler\n",
    "\n",
    "\n",
    "class OneClassImageClassificationDataset(Dataset):\n",
    "    def __init__(self, annotations, image_transform):\n",
    "        \"\"\"\n",
    "        annotations is a pandas dataframe\n",
    "        \n",
    "        \"\"\"\n",
    "        super().__init__()\n",
    "        self.annotations = annotations\n",
    "        self.image_transform = image_transform\n",
    "\n",
    "    def __len__(self):\n",
    "        \"\"\"\n",
    "        Return the length of the annotations dataframe\n",
    "        \"\"\"\n",
    "        # your code here\n",
    "        return len(self.annotations)\n",
    "\n",
    "    def __getitem__(self, index):\n",
    "        \"\"\"\n",
    "        Using methods you wrote:\n",
    "        1 - load image from disk for given index  (self.load_from_disk)\n",
    "        2 - transform image (self.image_transform)\n",
    "        3 - Load target (self.load_target)\n",
    "        return Xi, yi\n",
    "        \"\"\"\n",
    "        \n",
    "        # YOUR CODE HERE\n",
    "\n",
    "        Xi = self.load_from_disk(index)\n",
    "        Xi = self.image_transform(Xi)\n",
    "        yi = self.load_target(index)\n",
    "        return Xi, yi\n",
    "\n",
    "    def load_to_pil(self, uri):\n",
    "        \"\"\"\n",
    "        Write a helper function that uses PIL.Image to load a file and returns it\n",
    "        \"\"\"\n",
    "\n",
    "        image_pil = Image.open(uri)\n",
    "        image_pil = image_pil.convert(\"RGB\")\n",
    "        # image_pil = YOUR CODE HERE\n",
    "        return image_pil\n",
    "\n",
    "\n",
    "    def load_from_disk(self, index):\n",
    "        \"\"\"\n",
    "        Loads an image from disk given a index.\n",
    "        It gets the path of an image with the corresponding index from the metadata \n",
    "        It passes the URI to the self.load_to_pil and returns a PIL.Image\n",
    "        \"\"\"\n",
    "        image_path = self.annotations.iloc[index]['image_path']\n",
    "        #image_path = # YOUR CODE HERE\n",
    "        return self.load_to_pil(image_path)\n",
    "\n",
    "    def load_target(self, index):\n",
    "        \"\"\"\n",
    "        This function should get the tag for a given index from the annotations dataframe\n",
    "        You .iloc can become useful.    \n",
    "        This methods should return, either a 0 or a 1.\n",
    "        \"\"\"\n",
    "        \n",
    "        #label = # YOUR CODE HERE\n",
    "        label = self.annotations.iloc[index]['tags']\n",
    "\n",
    "        return label\n",
    "    \n",
    "    \n",
    "class BaseSampler(Sampler):\n",
    "    def __init__(self, df, n_samples):\n",
    "        self.df = df\n",
    "        self.n_samples = n_samples\n",
    "        \n",
    "    def __iter__(self):\n",
    "        return iter(self._get_sample())\n",
    "        \n",
    "    def __len__(self):\n",
    "        return self.n_samples\n",
    "    \n",
    "    def _get_sample(self):\n",
    "        return np.random.choice(len(self.df), self.n_samples, replace=False)\n",
    "        \n",
    "\n",
    "def binary_classification_model():\n",
    "    \"\"\"\n",
    "    Write a function that loads a resnet50 model from pretrainedmodels, freezes its layers\n",
    "    replaces the last_linear with the proper output number. As we did in previous example.\n",
    "    replace avgpool with adaptiv pooling.\n",
    "    \"\"\"\n",
    "    model = resnet50()\n",
    "    for p in model.parameters():\n",
    "        p.requires_grad = False\n",
    "    inft = model.last_linear.in_features\n",
    "    model.last_linear = nn.Linear(in_features=inft, out_features=2)\n",
    "    model.avgpool = nn.AdaptiveAvgPool2d(1)\n",
    "    \n",
    "    # model = YOUR CODE HERE\n",
    "    return model\n",
    "\n",
    "\n",
    "from imgaug import augmenters as iaa\n",
    "\n",
    "aug_seq = iaa.Sequential([\n",
    "    iaa.Fliplr(p=0.5),\n",
    "    iaa.Sometimes(\n",
    "        0.3,\n",
    "        iaa.Multiply((0.9, 1.2))\n",
    "    ),\n",
    "    iaa.Sometimes(\n",
    "        0.3,\n",
    "        iaa.AdditiveGaussianNoise()\n",
    "    ),\n",
    "    iaa.Affine(\n",
    "        scale=(0.5, 2),\n",
    "        translate_percent=(-0.2, 0.2)\n",
    "    )\n",
    "])\n",
    "def augment(self, augmenter, image):\n",
    "    augmenter = augmenter.to_deterministic()\n",
    "    img_aug = augmenter.augment_image(np.array(image))\n",
    "    img_aug = Image.fromarray(img_aug)\n",
    "    return img_aug"
   ]
  },
  {
   "cell_type": "code",
   "execution_count": 47,
   "metadata": {},
   "outputs": [
    {
     "name": "stderr",
     "output_type": "stream",
     "text": [
      "/home/i008/anaconda3/lib/python3.6/site-packages/sklearn/model_selection/_split.py:2026: FutureWarning: From version 0.21, test_size will always complement train_size unless both are specified.\n",
      "  FutureWarning)\n"
     ]
    }
   ],
   "source": [
    "\n",
    "# YOUR CODE HERE:\n",
    "# SPLIT the dataframe into df_train, df_test (thing about using sklearn.model_selection.train_test_split)\n",
    "df_train, df_test = train_test_split(df, train_size=0.8)\n",
    "df_train = df_train.reset_index()\n",
    "df_test = df_test.reset_index()\n",
    "\n",
    "MEAN = [0.485, 0.456, 0.406]\n",
    "STD = [0.229, 0.224, 0.225]\n",
    "N_EPOCHS = 10\n",
    "BATCH_SIZE = 32\n",
    "IMAGE_SIZE = 224\n",
    "\n",
    "image_transform_train = transforms.Compose([\n",
    "    transforms.Resize((IMAGE_SIZE, IMAGE_SIZE)),\n",
    "    transforms.ToTensor(),\n",
    "    transforms.Normalize(mean=MEAN, std=STD)])\n",
    "\n",
    "# YOUR CODE define image_transform_test\n",
    "image_transform_test = transforms.Compose([\n",
    "    transforms.Resize((IMAGE_SIZE, IMAGE_SIZE)),\n",
    "    transforms.ToTensor(),\n",
    "    transforms.Normalize(mean=MEAN, std=STD)])\n",
    "\n",
    "# YOUR CODE define the crieterion\n",
    "criterion = nn.CrossEntropyLoss()\n",
    "\n",
    "net = binary_classification_model()\n",
    "\n",
    "optimizer = torch.optim.Adam(net.parameters(), lr=0.001)\n",
    "\n",
    "\n",
    "# YOUR CODE\n",
    "# Instantiate the OneClassImageClassificationDatasets\n",
    "train_ds = OneClassImageClassificationDataset(df_train, image_transform=image_transform_train)\n",
    "test_ds = OneClassImageClassificationDataset(df_test, image_transform=image_transform_test)\n",
    "\n",
    "# initialize the BaseSampler\n",
    "bs = BaseSampler(train_ds, 500)\n",
    "\n",
    "#YOUR CODE\n",
    "#Initialize your DataLoader (using datasets)\n",
    "train_dl = DataLoader(train_ds, batch_size=BATCH_SIZE, sampler=bs)\n",
    "test_dl = DataLoader(test_ds, batch_size=BATCH_SIZE)"
   ]
  },
  {
   "cell_type": "code",
   "execution_count": 48,
   "metadata": {
    "scrolled": false
   },
   "outputs": [
    {
     "name": "stderr",
     "output_type": "stream",
     "text": [
      "/home/i008/anaconda3/lib/python3.6/site-packages/PIL/Image.py:931: UserWarning: Palette images with Transparency   expressed in bytes should be converted to RGBA images\n",
      "  'to RGBA images')\n"
     ]
    },
    {
     "name": "stdout",
     "output_type": "stream",
     "text": [
      "test: 0.5048504588552152 0.8273246055723397\n",
      "train: 0.516587948128581 0.808\n",
      "test: 0.4677797295699617 0.8280631084256462\n",
      "train: 0.45979013369977473 0.848\n",
      "test: 0.4480824895121205 0.8365894595501846\n",
      "train: 0.4403573891334236 0.854\n",
      "test: 0.4388743495431702 0.8345753608593488\n",
      "train: 0.4300677116326988 0.844\n",
      "test: 0.4336881693537632 0.8368580060422961\n",
      "train: 0.46539418802037835 0.816\n",
      "test: 0.42907476461660987 0.8424303457536086\n",
      "train: 0.42098932246118786 0.842\n",
      "test: 0.4196331403045951 0.8515609264853978\n",
      "train: 0.3952502954900265 0.876\n",
      "test: 0.4096265235744459 0.8537092984222894\n",
      "train: 0.4060871259719133 0.836\n",
      "test: 0.43704661320386623 0.8172541121181605\n",
      "train: 0.479952493943274 0.794\n",
      "test: 0.40085864068478216 0.8562604900973481\n",
      "train: 0.3953309319503605 0.85\n"
     ]
    }
   ],
   "source": [
    "import numpy as np \n",
    "def evaluate_model(model, loader, print_info=False):\n",
    "    with torch.no_grad():\n",
    "        model.eval()\n",
    "        collect_results = []\n",
    "        collect_target = []\n",
    "        for batch in loader:\n",
    "            X, y = batch\n",
    "            X = X.to(DEVICE)\n",
    "            y = y.to(DEVICE).detach().cpu().numpy()\n",
    "            pred = model(X)\n",
    "            collect_results.append(pred.sigmoid().detach().cpu().numpy())\n",
    "            collect_target.append(y) \n",
    "    \n",
    "        preds_proba = np.concatenate(collect_results)\n",
    "        preds = preds_proba.argmax(axis=1)\n",
    "        \n",
    "        targets = np.concatenate(collect_target)\n",
    "        \n",
    "        ll = log_loss(targets, preds_proba)\n",
    "        acc = accuracy_score(targets, preds)\n",
    "        if print_info:\n",
    "            print(\"test log-loss: {}\".format(ll))\n",
    "            print(\"overall accuracy:  {}\".format(acc))\n",
    "            #print(classification_report(targets, preds))\n",
    "        model.train()\n",
    "        \n",
    "        return ll, acc\n",
    "    \n",
    "metrics = []\n",
    "metrics_names = ['loss_train','loss_test','acc_train','acc_test']\n",
    "losses = []\n",
    "\n",
    "net.to(DEVICE)\n",
    "\n",
    "for epoch in range(N_EPOCHS):\n",
    "    for X, y in train_dl:\n",
    "        X = X.to(DEVICE)\n",
    "        y = y.to(DEVICE)\n",
    "        optimizer.zero_grad()\n",
    "        ypred=net(X)\n",
    "        loss = criterion(ypred, y)\n",
    "        loss.backward()\n",
    "        optimizer.step()\n",
    "        losses.append(loss.detach().cpu().numpy())\n",
    "        \n",
    "    testll, testacc = evaluate_model(net, test_dl)\n",
    "    trainll, trainacc = evaluate_model(net, train_dl)\n",
    "    print(\"test: {} {}\".format(testll, testacc))\n",
    "    print(\"train: {} {}\".format(trainll, trainacc))\n",
    "    metrics.append([trainll, testll, trainacc, testacc])\n",
    "        "
   ]
  },
  {
   "cell_type": "code",
   "execution_count": 14,
   "metadata": {},
   "outputs": [],
   "source": [
    "import pathlib "
   ]
  },
  {
   "cell_type": "code",
   "execution_count": 25,
   "metadata": {},
   "outputs": [],
   "source": []
  },
  {
   "cell_type": "code",
   "execution_count": 31,
   "metadata": {},
   "outputs": [
    {
     "name": "stdout",
     "output_type": "stream",
     "text": [
      "Faield opening\n",
      "Faield opening\n",
      "Faield opening\n",
      "Faield opening\n"
     ]
    }
   ],
   "source": [
    "import pathlib \n",
    "\n",
    "base = pathlib.Path(base_path)\n",
    "sneakers_path = base / 'sneakers'\n",
    "negatives_path = base/ 'negatives'\n",
    "sneakers = [str(a) for a in sneakers_path.glob('*')]\n",
    "negatives = [str(a) for a in negatives_path.glob('*')]\n",
    "ones = [1] * len(sneakers)\n",
    "zeros = [0] * len(negatives)\n",
    "df = pd.DataFrame()\n",
    "df['image_path'] = sneakers + negatives\n",
    "df['tags'] = ones + zeros\n",
    "\n",
    "failed_ix = []\n",
    "for i, image_path in enumerate(df.image_path):\n",
    "    try:\n",
    "        PIL.Image.open(image_path)\n",
    "    except:\n",
    "        print(\"Faield opening\")\n",
    "        failed_ix.append(i)\n",
    "        \n",
    "print('missing files:')\n",
    "df.iloc[failed_ix]\n",
    "df = df.drop(failed_ix)"
   ]
  },
  {
   "cell_type": "code",
   "execution_count": 33,
   "metadata": {
    "scrolled": true
   },
   "outputs": [
    {
     "data": {
      "text/plain": [
       "(74601, 2)"
      ]
     },
     "execution_count": 33,
     "metadata": {},
     "output_type": "execute_result"
    }
   ],
   "source": [
    "df.drop(failed_ix).shape"
   ]
  },
  {
   "cell_type": "code",
   "execution_count": 34,
   "metadata": {},
   "outputs": [
    {
     "name": "stdout",
     "output_type": "stream",
     "text": [
      "(74605, 2)\n"
     ]
    }
   ],
   "source": [
    "print(df.shape)"
   ]
  },
  {
   "cell_type": "code",
   "execution_count": 42,
   "metadata": {},
   "outputs": [
    {
     "data": {
      "text/plain": [
       "[<matplotlib.lines.Line2D at 0x7f5157fba518>]"
      ]
     },
     "execution_count": 42,
     "metadata": {},
     "output_type": "execute_result"
    },
    {
     "data": {
      "image/png": "[encoded data removed]",
      "text/plain": [
       "<Figure size 432x288 with 1 Axes>"
      ]
     },
     "metadata": {
      "needs_background": "light"
     },
     "output_type": "display_data"
    }
   ],
   "source": [
    "plt.plot(losses)"
   ]
  },
  {
   "cell_type": "code",
   "execution_count": 51,
   "metadata": {},
   "outputs": [],
   "source": [
    "g = iter(train_dl)"
   ]
  },
  {
   "cell_type": "code",
   "execution_count": 53,
   "metadata": {},
   "outputs": [
    {
     "name": "stdout",
     "output_type": "stream",
     "text": [
      "673 ms ± 37.1 ms per loop (mean ± std. dev. of 7 runs, 1 loop each)\n"
     ]
    }
   ],
   "source": [
    "%timeit next(g)"
   ]
  },
  {
   "cell_type": "code",
   "execution_count": 112,
   "metadata": {},
   "outputs": [],
   "source": [
    "train_dl1 = DataLoader(train_ds, batch_size=BATCH_SIZE, sampler=bs, num_workers=0)\n",
    "train_dl16 = DataLoader(train_ds, batch_size=BATCH_SIZE, sampler=bs, num_workers=8)\n"
   ]
  },
  {
   "cell_type": "code",
   "execution_count": 123,
   "metadata": {},
   "outputs": [],
   "source": [
    "g = iter(train_dl16)"
   ]
  },
  {
   "cell_type": "code",
   "execution_count": 130,
   "metadata": {},
   "outputs": [
    {
     "name": "stdout",
     "output_type": "stream",
     "text": [
      "0.0018208026885986328\n"
     ]
    }
   ],
   "source": [
    "import time\n",
    "t0 = time.time()\n",
    "next(g)\n",
    "print(time.time() - t0)"
   ]
  },
  {
   "cell_type": "code",
   "execution_count": 67,
   "metadata": {},
   "outputs": [
    {
     "data": {
      "text/plain": [
       "[tensor([[[[ 1.7009,  1.7009,  1.7009,  ...,  1.6153,  1.6324,  1.6324],\n",
       "           [ 1.7180,  1.7009,  1.7009,  ...,  1.6153,  1.6324,  1.6324],\n",
       "           [ 1.7009,  1.7009,  1.7009,  ...,  1.6153,  1.6324,  1.6324],\n",
       "           ...,\n",
       "           [ 0.8104,  0.8104,  0.8104,  ...,  0.0056, -0.0458, -0.0972],\n",
       "           [ 0.7591,  0.7762,  0.7762,  ..., -0.0287, -0.0801, -0.1314],\n",
       "           [ 0.7419,  0.7591,  0.7591,  ..., -0.0972, -0.1314, -0.1657]],\n",
       " \n",
       "          [[ 1.8508,  1.8508,  1.8508,  ...,  1.7633,  1.7808,  1.7808],\n",
       "           [ 1.8683,  1.8508,  1.8508,  ...,  1.7633,  1.7808,  1.7808],\n",
       "           [ 1.8508,  1.8508,  1.8508,  ...,  1.7633,  1.7808,  1.7808],\n",
       "           ...,\n",
       "           [ 0.9405,  0.9405,  0.9580,  ..., -0.0224, -0.0749, -0.0749],\n",
       "           [ 0.9055,  0.9230,  0.9230,  ..., -0.0574, -0.0924, -0.0924],\n",
       "           [ 0.8880,  0.9055,  0.8880,  ..., -0.0749, -0.0924, -0.1275]],\n",
       " \n",
       "          [[ 1.9951,  1.9951,  1.9951,  ...,  1.9080,  1.9254,  1.9254],\n",
       "           [ 2.0125,  1.9951,  1.9951,  ...,  1.9080,  1.9254,  1.9254],\n",
       "           [ 1.9951,  1.9951,  1.9951,  ...,  1.8905,  1.9254,  1.9254],\n",
       "           ...,\n",
       "           [ 1.0365,  1.0365,  1.0539,  ...,  0.0953,  0.0431,  0.0256],\n",
       "           [ 0.9842,  1.0017,  1.0191,  ...,  0.0605,  0.0431,  0.0256],\n",
       "           [ 0.9668,  0.9842,  1.0191,  ...,  0.0431,  0.0256, -0.0092]]],\n",
       " \n",
       " \n",
       "         [[[ 1.3755,  1.3755,  1.3755,  ...,  0.7248,  0.9646,  1.2214],\n",
       "           [ 1.3584,  1.3755,  1.3927,  ...,  1.2214,  0.9474,  0.9474],\n",
       "           [ 1.3755,  1.3755,  1.3927,  ...,  0.8104,  0.9988,  1.1187],\n",
       "           ...,\n",
       "           [-1.2274, -1.1932, -1.2445,  ..., -0.9705, -0.9534, -0.9363],\n",
       "           [-1.1932, -1.1760, -1.2274,  ..., -0.9705, -0.9705, -0.9705],\n",
       "           [-1.1247, -1.0904, -1.1760,  ..., -0.8849, -0.9363, -0.9877]],\n",
       " \n",
       "          [[ 1.5532,  1.5532,  1.5532,  ...,  0.9580,  1.1856,  1.4307],\n",
       "           [ 1.5357,  1.5532,  1.5707,  ...,  1.3957,  1.2031,  1.1681],\n",
       "           [ 1.5532,  1.5532,  1.5707,  ...,  1.0980,  1.2206,  1.2906],\n",
       "           ...,\n",
       "           [-1.3004, -1.2654, -1.3179,  ..., -1.1604, -1.1429, -1.0728],\n",
       "           [-1.2654, -1.2479, -1.3004,  ..., -1.1604, -1.1604, -1.1078],\n",
       "           [-1.2479, -1.1604, -1.2304,  ..., -1.0728, -1.1429, -1.1429]],\n",
       " \n",
       "          [[ 1.8034,  1.8034,  1.8034,  ...,  1.7337,  1.6465,  1.6291],\n",
       "           [ 1.7860,  1.8034,  1.8208,  ...,  1.8731,  1.4374,  0.9145],\n",
       "           [ 1.8034,  1.8034,  1.8208,  ...,  1.7337,  1.5245,  1.3328],\n",
       "           ...,\n",
       "           [-1.0898, -1.0550, -1.1073,  ..., -1.0550, -1.0376, -1.0027],\n",
       "           [-1.0724, -1.0376, -1.0898,  ..., -1.0550, -1.0550, -1.0376],\n",
       "           [-1.0550, -1.0027, -1.0724,  ..., -1.0376, -1.0724, -1.0724]]],\n",
       " \n",
       " \n",
       "         [[[-1.6727, -1.6727, -1.6727,  ..., -1.7412, -1.7412, -1.7583],\n",
       "           [-1.6727, -1.6727, -1.6727,  ..., -1.7583, -1.7412, -1.7583],\n",
       "           [-1.6898, -1.6727, -1.6727,  ..., -1.7583, -1.7583, -1.7583],\n",
       "           ...,\n",
       "           [ 0.5707,  0.5536,  0.2796,  ...,  0.1597,  0.2111,  0.3481],\n",
       "           [ 0.5193,  0.5193,  0.5022,  ...,  0.3309,  0.4679,  0.5536],\n",
       "           [ 0.5022,  0.4851,  0.4337,  ...,  0.5878,  0.6049,  0.5878]],\n",
       " \n",
       "          [[-1.6506, -1.6506, -1.6506,  ..., -1.7206, -1.7206, -1.7381],\n",
       "           [-1.6506, -1.6506, -1.6506,  ..., -1.7206, -1.7206, -1.7381],\n",
       "           [-1.6681, -1.6506, -1.6506,  ..., -1.7381, -1.7381, -1.7381],\n",
       "           ...,\n",
       "           [ 0.7129,  0.6078,  0.2927,  ...,  0.1352,  0.2402,  0.4153],\n",
       "           [ 0.5728,  0.5903,  0.5728,  ...,  0.3627,  0.5378,  0.6604],\n",
       "           [ 0.4853,  0.5378,  0.5553,  ...,  0.6604,  0.7304,  0.7479]],\n",
       " \n",
       "          [[-1.4384, -1.4384, -1.4384,  ..., -1.4733, -1.4733, -1.4907],\n",
       "           [-1.4384, -1.4384, -1.4384,  ..., -1.5256, -1.5081, -1.5256],\n",
       "           [-1.4559, -1.4384, -1.4384,  ..., -1.5604, -1.5604, -1.5604],\n",
       "           ...,\n",
       "           [ 0.8971,  0.8274,  0.5136,  ...,  0.3219,  0.4091,  0.5659],\n",
       "           [ 0.7925,  0.7925,  0.7751,  ...,  0.6356,  0.8099,  0.9145],\n",
       "           [ 0.7228,  0.7402,  0.7402,  ...,  0.8622,  0.9319,  0.9494]]],\n",
       " \n",
       " \n",
       "         ...,\n",
       " \n",
       " \n",
       "         [[[-0.5596, -0.5596, -0.6109,  ..., -0.3883, -0.1143,  0.1254],\n",
       "           [-0.6109, -0.5082, -0.5767,  ..., -1.1589, -0.0972,  0.0912],\n",
       "           [-0.1828, -0.1314, -0.3541,  ..., -1.1760, -0.2856,  0.1254],\n",
       "           ...,\n",
       "           [-1.7583, -1.6727, -1.6042,  ...,  0.5536,  0.6906,  0.4337],\n",
       "           [-1.7069, -1.7412, -1.6727,  ...,  1.0502,  1.2385,  1.6153],\n",
       "           [-1.5699, -1.6727, -1.6213,  ...,  1.1700,  0.9474,  1.7523]],\n",
       " \n",
       "          [[-0.5476, -0.6176, -0.8803,  ..., -1.5105, -1.6331, -1.5805],\n",
       "           [-0.6176, -0.4601, -0.7752,  ..., -1.5455, -1.5280, -1.5455],\n",
       "           [-0.1450,  0.1877, -0.1625,  ..., -1.5280, -1.6155, -1.6681],\n",
       "           ...,\n",
       "           [-1.4230, -1.1779, -1.1078,  ..., -0.6527, -0.1975, -0.0749],\n",
       "           [-1.3179, -1.1779, -1.0903,  ..., -0.0399,  0.2927,  0.8004],\n",
       "           [-1.2654, -1.2129, -1.1253,  ...,  0.4328,  0.1527,  0.8179]],\n",
       " \n",
       "          [[ 0.8622,  0.8797,  0.7751,  ..., -0.6018, -0.3055, -0.0092],\n",
       "           [ 0.8099,  0.9319,  0.6879,  ..., -0.9678, -0.3055, -0.0790],\n",
       "           [ 1.1062,  1.3851,  1.1411,  ..., -0.8981, -0.3753, -0.0790],\n",
       "           ...,\n",
       "           [-0.8807, -0.5844, -0.4101,  ...,  1.5245,  1.6814,  1.6465],\n",
       "           [-0.6715, -0.5670, -0.4275,  ...,  1.9080,  1.9777,  2.2566],\n",
       "           [-0.5147, -0.5147, -0.4624,  ...,  2.0997,  1.7860,  2.3088]]],\n",
       " \n",
       " \n",
       "         [[[-2.0837, -2.0837, -2.0837,  ..., -2.0837, -2.0837, -2.0837],\n",
       "           [-2.0837, -2.0837, -2.0837,  ..., -2.0837, -2.0837, -2.0837],\n",
       "           [-2.0837, -2.0837, -2.0837,  ..., -2.0837, -2.0837, -2.0837],\n",
       "           ...,\n",
       "           [-2.0837, -2.0837, -2.0837,  ..., -2.0837, -2.0837, -2.0837],\n",
       "           [-2.0837, -2.0837, -2.0837,  ..., -2.0837, -2.0837, -2.0837],\n",
       "           [-2.0837, -2.0837, -2.0837,  ..., -2.0837, -2.0837, -2.0837]],\n",
       " \n",
       "          [[ 0.9930,  0.9930,  0.9930,  ...,  0.9930,  0.9930,  0.9930],\n",
       "           [ 0.9930,  0.9930,  0.9930,  ...,  0.9930,  0.9930,  0.9930],\n",
       "           [ 0.9930,  0.9930,  0.9930,  ...,  0.9930,  0.9930,  0.9930],\n",
       "           ...,\n",
       "           [ 0.9930,  0.9930,  0.9930,  ...,  0.9930,  0.9930,  0.9930],\n",
       "           [ 0.9930,  0.9930,  0.9930,  ...,  0.9930,  0.9930,  0.9930],\n",
       "           [ 0.9930,  0.9930,  0.9930,  ...,  0.9930,  0.9930,  0.9930]],\n",
       " \n",
       "          [[ 1.0714,  1.0714,  1.0714,  ...,  1.0714,  1.0714,  1.0714],\n",
       "           [ 1.0714,  1.0714,  1.0714,  ...,  1.0714,  1.0714,  1.0714],\n",
       "           [ 1.0714,  1.0714,  1.0714,  ...,  1.0714,  1.0714,  1.0714],\n",
       "           ...,\n",
       "           [ 1.0714,  1.0714,  1.0714,  ...,  1.0714,  1.0714,  1.0714],\n",
       "           [ 1.0714,  1.0714,  1.0714,  ...,  1.0714,  1.0714,  1.0714],\n",
       "           [ 1.0714,  1.0714,  1.0714,  ...,  1.0714,  1.0714,  1.0714]]],\n",
       " \n",
       " \n",
       "         [[[ 1.1015,  1.1015,  1.1187,  ...,  1.9578,  1.9578,  1.9578],\n",
       "           [ 1.1015,  1.1187,  1.1015,  ...,  1.7694,  1.8037,  1.8379],\n",
       "           [ 1.0502,  1.0844,  1.1187,  ...,  1.2557,  1.3070,  1.3584],\n",
       "           ...,\n",
       "           [ 0.6221,  0.8618,  0.7762,  ..., -0.1486, -0.8335, -1.1418],\n",
       "           [ 0.7933,  0.7077,  0.6392,  ..., -0.6965, -0.6109, -0.9363],\n",
       "           [ 0.4679,  0.6392,  0.1768,  ..., -0.9363, -0.3541, -0.7993]],\n",
       " \n",
       "          [[ 2.1310,  2.1310,  2.1310,  ...,  2.3060,  2.3235,  2.3235],\n",
       "           [ 2.0784,  2.0959,  2.1134,  ...,  2.3060,  2.3410,  2.3410],\n",
       "           [ 2.0609,  2.0959,  2.1134,  ...,  2.1485,  2.1660,  2.1835],\n",
       "           ...,\n",
       "           [ 0.7654,  1.0105,  0.9230,  ..., -0.0049, -0.7752, -1.1078],\n",
       "           [ 0.9580,  0.8704,  0.7829,  ..., -0.5651, -0.4951, -0.8803],\n",
       "           [ 0.6078,  0.7829,  0.2927,  ..., -0.8627, -0.1800, -0.7052]],\n",
       " \n",
       "          [[ 2.4134,  2.4134,  2.4308,  ...,  2.5703,  2.5703,  2.5703],\n",
       "           [ 2.3960,  2.3960,  2.4134,  ...,  2.5703,  2.5877,  2.5877],\n",
       "           [ 2.3437,  2.3786,  2.3960,  ...,  2.4134,  2.4308,  2.4483],\n",
       "           ...,\n",
       "           [ 0.8971,  1.1585,  1.0539,  ...,  0.2696, -0.5670, -0.9156],\n",
       "           [ 1.0888,  1.0017,  0.9494,  ..., -0.3578, -0.2707, -0.6715],\n",
       "           [ 0.7576,  0.9145,  0.4614,  ..., -0.6541,  0.0953, -0.4973]]]]),\n",
       " tensor([1, 1, 1, 1, 0, 0, 1, 1, 0, 0, 0, 1, 0, 0, 0, 0, 1, 1, 1, 0, 1, 0, 1, 0,\n",
       "         0, 0, 0, 0, 0, 0, 1, 0])]"
      ]
     },
     "execution_count": 67,
     "metadata": {},
     "output_type": "execute_result"
    }
   ],
   "source": [
    "t0 = \n",
    "next(g)"
   ]
  },
  {
   "cell_type": "code",
   "execution_count": null,
   "metadata": {},
   "outputs": [],
   "source": []
  },
  {
   "cell_type": "code",
   "execution_count": null,
   "metadata": {},
   "outputs": [],
   "source": []
  }
 ],
 "metadata": {
  "kernelspec": {
   "display_name": "Python [default]",
   "language": "python",
   "name": "python3"
  },
  "language_info": {
   "codemirror_mode": {
    "name": "ipython",
    "version": 3
   },
   "file_extension": ".py",
   "mimetype": "text/x-python",
   "name": "python",
   "nbconvert_exporter": "python",
   "pygments_lexer": "ipython3",
   "version": "3.6.4"
  }
 },
 "nbformat": 4,
 "nbformat_minor": 2
}
